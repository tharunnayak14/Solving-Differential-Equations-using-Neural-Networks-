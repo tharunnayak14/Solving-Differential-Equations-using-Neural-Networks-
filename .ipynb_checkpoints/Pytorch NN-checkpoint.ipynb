{
 "cells": [
  {
   "cell_type": "code",
   "execution_count": 1,
   "id": "434944ce",
   "metadata": {
    "ExecuteTime": {
     "end_time": "2021-12-01T16:20:57.123943Z",
     "start_time": "2021-12-01T16:20:55.970686Z"
    }
   },
   "outputs": [],
   "source": [
    "import torch\n",
    "import torch.nn as nn\n",
    "import matplotlib.pyplot as plt\n",
    "import numpy as np\n",
    "\n",
    "# check if GPU is available and use it; otherwise use CPU\n",
    "device = torch.device(\"cuda:0\" if torch.cuda.is_available() else \"cpu\")"
   ]
  },
  {
   "cell_type": "code",
   "execution_count": 2,
   "id": "0573131a",
   "metadata": {
    "ExecuteTime": {
     "end_time": "2021-12-01T16:20:57.139947Z",
     "start_time": "2021-12-01T16:20:57.124944Z"
    }
   },
   "outputs": [
    {
     "data": {
      "text/plain": [
       "'1.10.0'"
      ]
     },
     "execution_count": 2,
     "metadata": {},
     "output_type": "execute_result"
    }
   ],
   "source": [
    "torch.__version__"
   ]
  },
  {
   "cell_type": "code",
   "execution_count": 3,
   "id": "3a95727c",
   "metadata": {
    "ExecuteTime": {
     "end_time": "2021-12-01T16:20:57.155950Z",
     "start_time": "2021-12-01T16:20:57.140948Z"
    }
   },
   "outputs": [
    {
     "data": {
      "text/plain": [
       "device(type='cuda', index=0)"
      ]
     },
     "execution_count": 3,
     "metadata": {},
     "output_type": "execute_result"
    }
   ],
   "source": [
    "device"
   ]
  },
  {
   "cell_type": "code",
   "execution_count": 4,
   "id": "ecb30ae4",
   "metadata": {
    "ExecuteTime": {
     "end_time": "2021-12-01T16:20:57.171954Z",
     "start_time": "2021-12-01T16:20:57.156950Z"
    }
   },
   "outputs": [
    {
     "data": {
      "text/plain": [
       "'NVIDIA GeForce RTX 3060 Laptop GPU'"
      ]
     },
     "execution_count": 4,
     "metadata": {},
     "output_type": "execute_result"
    }
   ],
   "source": [
    "torch.cuda.get_device_name(0)"
   ]
  },
  {
   "cell_type": "markdown",
   "id": "f5d17920",
   "metadata": {},
   "source": [
    "# Question 1 "
   ]
  },
  {
   "attachments": {
    "question1.jpg": {
     "image/jpeg": "[encoded data removed]"
    }
   },
   "cell_type": "markdown",
   "id": "3721e400",
   "metadata": {},
   "source": [
    "![question1.jpg](attachment:question1.jpg)\n",
    "\n",
    "                             Ψ(0) = 0 and x ∈ [0, 2]"
   ]
  },
  {
   "cell_type": "code",
   "execution_count": 5,
   "id": "ceb37eab",
   "metadata": {
    "ExecuteTime": {
     "end_time": "2021-12-01T16:20:57.187958Z",
     "start_time": "2021-12-01T16:20:57.172955Z"
    }
   },
   "outputs": [],
   "source": [
    "N = nn.Sequential(nn.Linear(1, 50), nn.Sigmoid(), nn.Linear(50,1, bias=False))"
   ]
  },
  {
   "cell_type": "markdown",
   "id": "c4bf5357",
   "metadata": {},
   "source": [
    "## Boundary conditions"
   ]
  },
  {
   "cell_type": "code",
   "execution_count": 6,
   "id": "6d8d1549",
   "metadata": {
    "ExecuteTime": {
     "end_time": "2021-12-01T16:20:57.203961Z",
     "start_time": "2021-12-01T16:20:57.188958Z"
    }
   },
   "outputs": [],
   "source": [
    "A = 0 # Ψ(0)"
   ]
  },
  {
   "cell_type": "markdown",
   "id": "61176b81",
   "metadata": {},
   "source": [
    "## Trial solution"
   ]
  },
  {
   "attachments": {
    "trail.png": {
     "image/png": "[encoded data removed]"
    }
   },
   "cell_type": "markdown",
   "id": "2dcbc3bf",
   "metadata": {},
   "source": [
    "![trail.png](attachment:trail.png)"
   ]
  },
  {
   "cell_type": "code",
   "execution_count": 7,
   "id": "9b97c20b",
   "metadata": {
    "ExecuteTime": {
     "end_time": "2021-12-01T16:20:57.219965Z",
     "start_time": "2021-12-01T16:20:57.204961Z"
    }
   },
   "outputs": [],
   "source": [
    "# approximator for 1st order ode, trial solution\n",
    "def Psi_t(x): return A + x * N(x)"
   ]
  },
  {
   "cell_type": "markdown",
   "id": "7e7a47d9",
   "metadata": {},
   "source": [
    "## Given IVP"
   ]
  },
  {
   "attachments": {
    "qu1.jpg": {
     "image/jpeg": "[encoded data removed]"
    }
   },
   "cell_type": "markdown",
   "id": "7ce3624d",
   "metadata": {},
   "source": [
    "![qu1.jpg](attachment:qu1.jpg)"
   ]
  },
  {
   "cell_type": "code",
   "execution_count": 8,
   "id": "e92d6bf6",
   "metadata": {
    "ExecuteTime": {
     "end_time": "2021-12-01T16:20:57.235968Z",
     "start_time": "2021-12-01T16:20:57.220965Z"
    }
   },
   "outputs": [],
   "source": [
    "def f(x, Psi): return torch.exp(-x / 5.0) * torch.cos(x) - Psi / 5.0"
   ]
  },
  {
   "cell_type": "markdown",
   "id": "c485a71e",
   "metadata": {},
   "source": [
    "## Loss function"
   ]
  },
  {
   "attachments": {
    "lossfxn.jpg": {
     "image/jpeg": "[encoded data removed]"
    }
   },
   "cell_type": "markdown",
   "id": "eac0b6ca",
   "metadata": {},
   "source": [
    "![lossfxn.jpg](attachment:lossfxn.jpg)"
   ]
  },
  {
   "cell_type": "code",
   "execution_count": 9,
   "id": "fab6167a",
   "metadata": {
    "ExecuteTime": {
     "end_time": "2021-12-01T16:20:57.251972Z",
     "start_time": "2021-12-01T16:20:57.237969Z"
    }
   },
   "outputs": [],
   "source": [
    "def loss(x):\n",
    "    x.requires_grad = True\n",
    "    outputs = Psi_t(x)\n",
    "    Psi_t_x = torch.autograd.grad(outputs, x, grad_outputs=torch.ones_like(outputs),create_graph=True)[0]\n",
    "    return  torch.mean((Psi_t_x - f(x, outputs))**2)"
   ]
  },
  {
   "cell_type": "code",
   "execution_count": 10,
   "id": "2734cffa",
   "metadata": {
    "ExecuteTime": {
     "end_time": "2021-12-01T16:20:57.267975Z",
     "start_time": "2021-12-01T16:20:57.252972Z"
    }
   },
   "outputs": [],
   "source": [
    "optimizer = torch.optim.LBFGS(N.parameters())"
   ]
  },
  {
   "cell_type": "code",
   "execution_count": 11,
   "id": "f8cf2228",
   "metadata": {
    "ExecuteTime": {
     "end_time": "2021-12-01T16:20:57.283979Z",
     "start_time": "2021-12-01T16:20:57.268976Z"
    }
   },
   "outputs": [],
   "source": [
    "x = torch.Tensor(np.linspace(0, 2, 10)[:, None])"
   ]
  },
  {
   "cell_type": "code",
   "execution_count": 12,
   "id": "9b837740",
   "metadata": {
    "ExecuteTime": {
     "end_time": "2021-12-01T16:20:57.347992Z",
     "start_time": "2021-12-01T16:20:57.284979Z"
    }
   },
   "outputs": [],
   "source": [
    "def closure():\n",
    "    optimizer.zero_grad()\n",
    "    l = loss(x)\n",
    "    l.backward()  \n",
    "    return l\n",
    "\n",
    "for i in range(10):\n",
    "    optimizer.step(closure)"
   ]
  },
  {
   "cell_type": "code",
   "execution_count": 13,
   "id": "041401f5",
   "metadata": {
    "ExecuteTime": {
     "end_time": "2021-12-01T16:20:57.474020Z",
     "start_time": "2021-12-01T16:20:57.348993Z"
    }
   },
   "outputs": [
    {
     "data": {
      "text/plain": [
       "<matplotlib.legend.Legend at 0x2258faf25b0>"
      ]
     },
     "execution_count": 13,
     "metadata": {},
     "output_type": "execute_result"
    },
    {
     "data": {
      "image/png": "[encoded data removed]",
      "text/plain": [
       "<Figure size 600x400 with 1 Axes>"
      ]
     },
     "metadata": {
      "needs_background": "light"
     },
     "output_type": "display_data"
    }
   ],
   "source": [
    "x = np.linspace(0, 2, 10)[:, None]\n",
    "\n",
    "with torch.no_grad():\n",
    "    y_predicted = Psi_t(torch.Tensor(x)).numpy()\n",
    "    \n",
    "y_true = np.exp(-x / 5.0) * np.sin(x)\n",
    "\n",
    "fig, ax = plt.subplots(dpi=100)\n",
    "ax.plot(x, y_true, label='Analytical')\n",
    "ax.plot(x, y_predicted, '--', label='NN approximation', color='r')\n",
    "plt.legend(loc=0)"
   ]
  },
  {
   "cell_type": "markdown",
   "id": "054d7d84",
   "metadata": {},
   "source": [
    "# Question 2"
   ]
  },
  {
   "attachments": {
    "qu2.jpg": {
     "image/jpeg": "[encoded data removed]"
    }
   },
   "cell_type": "markdown",
   "id": "29aa0921",
   "metadata": {},
   "source": [
    "![qu2.jpg](attachment:qu2.jpg)\n",
    "\n",
    "\n",
    "                            Ψ(0) = 1 and x ∈ [0, 1]"
   ]
  },
  {
   "cell_type": "code",
   "execution_count": 14,
   "id": "1ef08435",
   "metadata": {
    "ExecuteTime": {
     "end_time": "2021-12-01T16:20:57.490024Z",
     "start_time": "2021-12-01T16:20:57.475022Z"
    }
   },
   "outputs": [],
   "source": [
    "A = 1"
   ]
  },
  {
   "cell_type": "code",
   "execution_count": 15,
   "id": "9297d71b",
   "metadata": {
    "ExecuteTime": {
     "end_time": "2021-12-01T16:20:57.506028Z",
     "start_time": "2021-12-01T16:20:57.491025Z"
    }
   },
   "outputs": [],
   "source": [
    "N = nn.Sequential(nn.Linear(1, 50), nn.Sigmoid(), nn.Linear(50,1, bias=False))"
   ]
  },
  {
   "cell_type": "code",
   "execution_count": 16,
   "id": "f368d207",
   "metadata": {
    "ExecuteTime": {
     "end_time": "2021-12-01T16:20:57.522031Z",
     "start_time": "2021-12-01T16:20:57.507029Z"
    }
   },
   "outputs": [],
   "source": [
    "def f(x, Psi): return (x**3 + 2*x + x**2*(1+3*x**2) /\n",
    "                       (1+x+x**3) - Psi*(x + (1+3*x**2)/(1+x+x**3)))"
   ]
  },
  {
   "cell_type": "code",
   "execution_count": 17,
   "id": "f97769c2",
   "metadata": {
    "ExecuteTime": {
     "end_time": "2021-12-01T16:20:57.538035Z",
     "start_time": "2021-12-01T16:20:57.523032Z"
    }
   },
   "outputs": [],
   "source": [
    "def Psi_t(x): return A + x * N(x)"
   ]
  },
  {
   "cell_type": "code",
   "execution_count": 18,
   "id": "8a9ef32c",
   "metadata": {
    "ExecuteTime": {
     "end_time": "2021-12-01T16:20:57.554039Z",
     "start_time": "2021-12-01T16:20:57.539036Z"
    }
   },
   "outputs": [],
   "source": [
    "optimizer = torch.optim.LBFGS(N.parameters())"
   ]
  },
  {
   "cell_type": "code",
   "execution_count": 19,
   "id": "9afa54ed",
   "metadata": {
    "ExecuteTime": {
     "end_time": "2021-12-01T16:20:57.570043Z",
     "start_time": "2021-12-01T16:20:57.555039Z"
    }
   },
   "outputs": [],
   "source": [
    "x = torch.Tensor(np.linspace(0, 1, 10)[:, None])"
   ]
  },
  {
   "cell_type": "code",
   "execution_count": 20,
   "id": "3ddc4bad",
   "metadata": {
    "ExecuteTime": {
     "end_time": "2021-12-01T16:20:57.906117Z",
     "start_time": "2021-12-01T16:20:57.571044Z"
    }
   },
   "outputs": [],
   "source": [
    "for i in range(10):\n",
    "    optimizer.step(closure)"
   ]
  },
  {
   "cell_type": "code",
   "execution_count": 21,
   "id": "34db4c37",
   "metadata": {
    "ExecuteTime": {
     "end_time": "2021-12-01T16:20:58.048149Z",
     "start_time": "2021-12-01T16:20:57.907118Z"
    }
   },
   "outputs": [
    {
     "data": {
      "text/plain": [
       "<matplotlib.legend.Legend at 0x2258fbee370>"
      ]
     },
     "execution_count": 21,
     "metadata": {},
     "output_type": "execute_result"
    },
    {
     "data": {
      "image/png": "[encoded data removed]",
      "text/plain": [
       "<Figure size 600x400 with 1 Axes>"
      ]
     },
     "metadata": {
      "needs_background": "light"
     },
     "output_type": "display_data"
    }
   ],
   "source": [
    "x = np.linspace(0, 1, 10)[:, None]\n",
    "\n",
    "with torch.no_grad():\n",
    "    y_predicted = Psi_t(torch.Tensor(x)).numpy()\n",
    "    \n",
    "y_true = (np.exp(-x**2 / 2.0)/(1+x+x**3)) + x**2\n",
    "\n",
    "fig, ax = plt.subplots(dpi=100)\n",
    "ax.plot(x, y_true, label='Analytical')\n",
    "ax.plot(x, y_predicted, '--', label='NN approximation', color='r')\n",
    "plt.legend(loc=0)"
   ]
  },
  {
   "cell_type": "markdown",
   "id": "ca411638",
   "metadata": {},
   "source": [
    "# Question 3"
   ]
  },
  {
   "attachments": {
    "2021-12-01%2021.41.29%20arxiv.org%20d6d2402de42c.png": {
     "image/png": "[encoded data removed]"
    }
   },
   "cell_type": "markdown",
   "id": "2e81109d",
   "metadata": {},
   "source": [
    "![2021-12-01%2021.41.29%20arxiv.org%20d6d2402de42c.png](attachment:2021-12-01%2021.41.29%20arxiv.org%20d6d2402de42c.png)\n",
    "\n",
    "                        Ψ(0) = 1, dΨ(0)/dx = 1, x ∈ [0, 2]"
   ]
  },
  {
   "cell_type": "code",
   "execution_count": 22,
   "id": "b9e78bb2",
   "metadata": {
    "ExecuteTime": {
     "end_time": "2021-12-01T16:20:58.064152Z",
     "start_time": "2021-12-01T16:20:58.049149Z"
    }
   },
   "outputs": [],
   "source": [
    "A = 0 # Ψ(0)\n",
    "B = 1 # dΨ(0)/dx"
   ]
  },
  {
   "cell_type": "code",
   "execution_count": 23,
   "id": "e651e2f3",
   "metadata": {
    "ExecuteTime": {
     "end_time": "2021-12-01T16:20:58.080156Z",
     "start_time": "2021-12-01T16:20:58.065153Z"
    }
   },
   "outputs": [],
   "source": [
    "N = nn.Sequential(nn.Linear(1, 50), nn.Sigmoid(), nn.Linear(50,1, bias=False))"
   ]
  },
  {
   "attachments": {
    "2021-12-01%2021.44.06%20arxiv.org%20fad34c896106.png": {
     "image/png": "[encoded data removed]"
    }
   },
   "cell_type": "markdown",
   "id": "1bdd39db",
   "metadata": {},
   "source": [
    "![2021-12-01%2021.44.06%20arxiv.org%20fad34c896106.png](attachment:2021-12-01%2021.44.06%20arxiv.org%20fad34c896106.png)"
   ]
  },
  {
   "cell_type": "code",
   "execution_count": 24,
   "id": "77f3b729",
   "metadata": {
    "ExecuteTime": {
     "end_time": "2021-12-01T16:20:58.096159Z",
     "start_time": "2021-12-01T16:20:58.081156Z"
    }
   },
   "outputs": [],
   "source": [
    "def f(x, Psi, Psi_x): \n",
    "    return -torch.exp(-x / 5) * torch.cos(x)/5 - Psi - Psi_x/5"
   ]
  },
  {
   "attachments": {
    "2021-12-01%2021.44.45%20arxiv.org%20482d49c0b910.png": {
     "image/png": "[encoded data removed]"
    }
   },
   "cell_type": "markdown",
   "id": "3d9417ff",
   "metadata": {},
   "source": [
    "![2021-12-01%2021.44.45%20arxiv.org%20482d49c0b910.png](attachment:2021-12-01%2021.44.45%20arxiv.org%20482d49c0b910.png)"
   ]
  },
  {
   "cell_type": "code",
   "execution_count": 25,
   "id": "7797bcb7",
   "metadata": {
    "ExecuteTime": {
     "end_time": "2021-12-01T16:20:58.112164Z",
     "start_time": "2021-12-01T16:20:58.097160Z"
    }
   },
   "outputs": [],
   "source": [
    "def Psi_t(x): \n",
    "    return A + B*x + x**2 * N(x)"
   ]
  },
  {
   "cell_type": "code",
   "execution_count": 26,
   "id": "730f7710",
   "metadata": {
    "ExecuteTime": {
     "end_time": "2021-12-01T16:20:58.128167Z",
     "start_time": "2021-12-01T16:20:58.113165Z"
    }
   },
   "outputs": [],
   "source": [
    "optimizer = torch.optim.LBFGS(N.parameters())"
   ]
  },
  {
   "cell_type": "code",
   "execution_count": 27,
   "id": "129e1ac7",
   "metadata": {
    "ExecuteTime": {
     "end_time": "2021-12-01T16:20:58.144171Z",
     "start_time": "2021-12-01T16:20:58.130168Z"
    }
   },
   "outputs": [],
   "source": [
    "def loss(x):\n",
    "    x.requires_grad = True\n",
    "    outputs = Psi_t(x)\n",
    "    Psi_t_x = torch.autograd.grad(outputs, x, grad_outputs=torch.ones_like(outputs),create_graph=True)[0]\n",
    "    Psi_t_x_x = torch.autograd.grad(Psi_t_x, x, grad_outputs=torch.ones_like(Psi_t_x),create_graph=True )[0]\n",
    "\n",
    "    return torch.mean((Psi_t_x_x - f(x, outputs, Psi_t_x)) ** 2)"
   ]
  },
  {
   "cell_type": "code",
   "execution_count": 28,
   "id": "c58f57c0",
   "metadata": {
    "ExecuteTime": {
     "end_time": "2021-12-01T16:20:58.160175Z",
     "start_time": "2021-12-01T16:20:58.145171Z"
    }
   },
   "outputs": [],
   "source": [
    "x = torch.Tensor(np.linspace(0, 2, 10)[:, None])"
   ]
  },
  {
   "cell_type": "code",
   "execution_count": 29,
   "id": "91faf408",
   "metadata": {
    "ExecuteTime": {
     "end_time": "2021-12-01T16:20:58.208184Z",
     "start_time": "2021-12-01T16:20:58.161175Z"
    }
   },
   "outputs": [],
   "source": [
    "for i in range(10):\n",
    "    optimizer.step(closure)"
   ]
  },
  {
   "cell_type": "code",
   "execution_count": 30,
   "id": "a4ccc6af",
   "metadata": {
    "ExecuteTime": {
     "end_time": "2021-12-01T16:20:58.304206Z",
     "start_time": "2021-12-01T16:20:58.209185Z"
    }
   },
   "outputs": [
    {
     "data": {
      "text/plain": [
       "<matplotlib.legend.Legend at 0x2258fc31f40>"
      ]
     },
     "execution_count": 30,
     "metadata": {},
     "output_type": "execute_result"
    },
    {
     "data": {
      "image/png": "[encoded data removed]",
      "text/plain": [
       "<Figure size 600x400 with 1 Axes>"
      ]
     },
     "metadata": {
      "needs_background": "light"
     },
     "output_type": "display_data"
    }
   ],
   "source": [
    "x = np.linspace(0, 2, 10)[:, None]\n",
    "\n",
    "with torch.no_grad():\n",
    "    y_predicted = Psi_t(torch.Tensor(x)).numpy()\n",
    "    \n",
    "y_true = np.exp(-x/5)*np.sin(x)\n",
    "\n",
    "fig, ax = plt.subplots(dpi=100)\n",
    "ax.plot(x, y_true, label='Analytical')\n",
    "ax.plot(x, y_predicted, '--', label='NN approximation', color='r')\n",
    "plt.legend(loc=0)"
   ]
  },
  {
   "cell_type": "markdown",
   "id": "5a8454e1",
   "metadata": {},
   "source": [
    "# Question 4"
   ]
  },
  {
   "cell_type": "markdown",
   "id": "33e536ec",
   "metadata": {},
   "source": [
    "                    Ψ(0) = 1, Ψ(1) = sin(1)*e^(-1/5), x ∈ [0, 1]"
   ]
  },
  {
   "cell_type": "code",
   "execution_count": 31,
   "id": "3a17ca14",
   "metadata": {
    "ExecuteTime": {
     "end_time": "2021-12-01T16:20:58.320209Z",
     "start_time": "2021-12-01T16:20:58.305206Z"
    }
   },
   "outputs": [],
   "source": [
    "N = nn.Sequential(nn.Linear(1, 50), nn.Sigmoid(), nn.Linear(50,1, bias=False))"
   ]
  },
  {
   "attachments": {
    "2021-12-01%2021.47.34%20arxiv.org%2046bf989a93d7.png": {
     "image/png": "[encoded data removed]"
    }
   },
   "cell_type": "markdown",
   "id": "def23657",
   "metadata": {},
   "source": [
    "![2021-12-01%2021.47.34%20arxiv.org%2046bf989a93d7.png](attachment:2021-12-01%2021.47.34%20arxiv.org%2046bf989a93d7.png)"
   ]
  },
  {
   "cell_type": "code",
   "execution_count": 32,
   "id": "b22916c2",
   "metadata": {
    "ExecuteTime": {
     "end_time": "2021-12-01T16:20:58.336213Z",
     "start_time": "2021-12-01T16:20:58.321210Z"
    }
   },
   "outputs": [],
   "source": [
    "A = 0\n",
    "B = np.sin(1)*np.exp(-1/5)"
   ]
  },
  {
   "cell_type": "code",
   "execution_count": 33,
   "id": "b91b53da",
   "metadata": {
    "ExecuteTime": {
     "end_time": "2021-12-01T16:20:58.352216Z",
     "start_time": "2021-12-01T16:20:58.337214Z"
    }
   },
   "outputs": [],
   "source": [
    "def Psi_t(x): \n",
    "    return A*(1-x) + B * x + (1-x) * x * N(x)"
   ]
  },
  {
   "cell_type": "code",
   "execution_count": 34,
   "id": "7c33894c",
   "metadata": {
    "ExecuteTime": {
     "end_time": "2021-12-01T16:20:58.368220Z",
     "start_time": "2021-12-01T16:20:58.353217Z"
    }
   },
   "outputs": [],
   "source": [
    "def f(x, Psi, Psi_x): \n",
    "    return -torch.exp(-x / 5) * torch.cos(x)/5 - Psi - Psi_x/5"
   ]
  },
  {
   "cell_type": "code",
   "execution_count": 35,
   "id": "bfca70de",
   "metadata": {
    "ExecuteTime": {
     "end_time": "2021-12-01T16:20:58.384224Z",
     "start_time": "2021-12-01T16:20:58.369221Z"
    }
   },
   "outputs": [],
   "source": [
    "def loss(x):\n",
    "    x.requires_grad = True\n",
    "    outputs = Psi_t(x)\n",
    "\n",
    "    Psi_t_x = torch.autograd.grad(outputs, x, grad_outputs=torch.ones_like(outputs),\n",
    "                                            create_graph=True)[0]\n",
    "    Psi_t_x_x = torch.autograd.grad(Psi_t_x, x, grad_outputs=torch.ones_like(Psi_t_x),\n",
    "                                            create_graph=True )[0]\n",
    "\n",
    "    return torch.mean((Psi_t_x_x - f(x, outputs, Psi_t_x)) ** 2)"
   ]
  },
  {
   "cell_type": "code",
   "execution_count": 36,
   "id": "d9308ccd",
   "metadata": {
    "ExecuteTime": {
     "end_time": "2021-12-01T16:20:58.400227Z",
     "start_time": "2021-12-01T16:20:58.385224Z"
    }
   },
   "outputs": [],
   "source": [
    "optimizer = torch.optim.LBFGS(N.parameters())\n",
    "x = torch.Tensor(np.linspace(0, 1, 10)[:, None])"
   ]
  },
  {
   "cell_type": "code",
   "execution_count": 37,
   "id": "94482fdc",
   "metadata": {
    "ExecuteTime": {
     "end_time": "2021-12-01T16:20:58.448238Z",
     "start_time": "2021-12-01T16:20:58.401228Z"
    }
   },
   "outputs": [],
   "source": [
    "def closure():\n",
    "    optimizer.zero_grad()\n",
    "    l = loss(x)\n",
    "    l.backward()\n",
    "    return l\n",
    "\n",
    "for i in range(10):\n",
    "    optimizer.step(closure)"
   ]
  },
  {
   "cell_type": "code",
   "execution_count": 39,
   "id": "de0a474a",
   "metadata": {
    "ExecuteTime": {
     "end_time": "2021-12-01T16:21:32.085764Z",
     "start_time": "2021-12-01T16:21:31.987743Z"
    }
   },
   "outputs": [
    {
     "data": {
      "text/plain": [
       "<matplotlib.legend.Legend at 0x2258fabb340>"
      ]
     },
     "execution_count": 39,
     "metadata": {},
     "output_type": "execute_result"
    },
    {
     "data": {
      "image/png": "[encoded data removed]",
      "text/plain": [
       "<Figure size 600x400 with 1 Axes>"
      ]
     },
     "metadata": {
      "needs_background": "light"
     },
     "output_type": "display_data"
    }
   ],
   "source": [
    "x = np.linspace(0, 1, 10)[:, None]\n",
    "\n",
    "with torch.no_grad():\n",
    "    y_predicted = Psi_t(torch.Tensor(x)).numpy()\n",
    "    \n",
    "y_true = np.exp(-x/5)*np.sin(x)\n",
    "\n",
    "fig, ax = plt.subplots(dpi=100)\n",
    "ax.plot(x, y_true, label='Analytical')\n",
    "ax.plot(x, y_predicted, '--', label='NN approximation', color='r')\n",
    "plt.legend(loc=0)"
   ]
  },
  {
   "cell_type": "code",
   "execution_count": null,
   "id": "f8ba3146",
   "metadata": {},
   "outputs": [],
   "source": []
  }
 ],
 "metadata": {
  "kernelspec": {
   "display_name": "torch",
   "language": "python",
   "name": "torch"
  },
  "language_info": {
   "codemirror_mode": {
    "name": "ipython",
    "version": 3
   },
   "file_extension": ".py",
   "mimetype": "text/x-python",
   "name": "python",
   "nbconvert_exporter": "python",
   "pygments_lexer": "ipython3",
   "version": "3.9.7"
  },
  "latex_envs": {
   "LaTeX_envs_menu_present": true,
   "autoclose": false,
   "autocomplete": true,
   "bibliofile": "biblio.bib",
   "cite_by": "apalike",
   "current_citInitial": 1,
   "eqLabelWithNumbers": true,
   "eqNumInitial": 1,
   "hotkeys": {
    "equation": "Ctrl-E",
    "itemize": "Ctrl-I"
   },
   "labels_anchors": false,
   "latex_user_defs": false,
   "report_style_numbering": false,
   "user_envs_cfg": false
  },
  "toc": {
   "base_numbering": 1,
   "nav_menu": {},
   "number_sections": true,
   "sideBar": true,
   "skip_h1_title": false,
   "title_cell": "Table of Contents",
   "title_sidebar": "Contents",
   "toc_cell": false,
   "toc_position": {},
   "toc_section_display": true,
   "toc_window_display": false
  }
 },
 "nbformat": 4,
 "nbformat_minor": 5
}
